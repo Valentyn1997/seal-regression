{
 "cells": [
  {
   "cell_type": "code",
   "execution_count": 1,
   "metadata": {},
   "outputs": [],
   "source": [
    "import seal\n",
    "from seal import Ciphertext, \\\n",
    "    Decryptor, \\\n",
    "    Encryptor, \\\n",
    "    EncryptionParameters, \\\n",
    "    Evaluator, \\\n",
    "    IntegerEncoder, \\\n",
    "    KeyGenerator, \\\n",
    "    Plaintext, \\\n",
    "    SEALContext"
   ]
  },
  {
   "cell_type": "code",
   "execution_count": 2,
   "metadata": {},
   "outputs": [],
   "source": [
    "parms = EncryptionParameters()"
   ]
  },
  {
   "cell_type": "code",
   "execution_count": 3,
   "metadata": {},
   "outputs": [],
   "source": [
    "# Setting up params\n",
    "parms.set_poly_modulus(\"1x^2048 + 1\")\n",
    "parms.set_coeff_modulus(seal.coeff_modulus_128(2048))\n",
    "parms.set_plain_modulus(1 << 8)"
   ]
  },
  {
   "cell_type": "code",
   "execution_count": 4,
   "metadata": {},
   "outputs": [],
   "source": [
    "context = SEALContext(parms)"
   ]
  },
  {
   "cell_type": "code",
   "execution_count": 5,
   "metadata": {},
   "outputs": [
    {
     "name": "stdout",
     "output_type": "stream",
     "text": [
      "/ Encryption parameters:\n",
      "| poly_modulus: 1x^2048 + 1\n",
      "| coeff_modulus_size: 56 bits\n",
      "| plain_modulus: 256\n",
      "| noise_standard_deviation: 3.19\n"
     ]
    }
   ],
   "source": [
    "def print_parameters(context):\n",
    "    print(\"/ Encryption parameters:\")\n",
    "    print(\"| poly_modulus: \" + context.poly_modulus().to_string())\n",
    "    \n",
    "    # Print the size of the true (product) coefficient modulus\n",
    "    print(\"| coeff_modulus_size: \" + (str)(context.total_coeff_modulus().significant_bit_count()) + \" bits\")\n",
    "\n",
    "    print(\"| plain_modulus: \" + (str)(context.plain_modulus().value()))\n",
    "    print(\"| noise_standard_deviation: \" + (str)(context.noise_standard_deviation()))\n",
    "print_parameters(context);"
   ]
  },
  {
   "cell_type": "code",
   "execution_count": 6,
   "metadata": {},
   "outputs": [],
   "source": [
    "encoder = IntegerEncoder(context.plain_modulus())"
   ]
  },
  {
   "cell_type": "code",
   "execution_count": 8,
   "metadata": {},
   "outputs": [],
   "source": [
    "keygen = KeyGenerator(context)\n",
    "public_key = keygen.public_key()\n",
    "secret_key = keygen.secret_key()"
   ]
  },
  {
   "cell_type": "code",
   "execution_count": 9,
   "metadata": {},
   "outputs": [],
   "source": [
    "encryptor = Encryptor(context, public_key)"
   ]
  },
  {
   "cell_type": "code",
   "execution_count": 10,
   "metadata": {},
   "outputs": [],
   "source": [
    "evaluator = Evaluator(context)"
   ]
  },
  {
   "cell_type": "code",
   "execution_count": 11,
   "metadata": {},
   "outputs": [],
   "source": [
    "decryptor = Decryptor(context, secret_key)"
   ]
  },
  {
   "cell_type": "code",
   "execution_count": 15,
   "metadata": {},
   "outputs": [
    {
     "name": "stdout",
     "output_type": "stream",
     "text": [
      "Encrypting plain1: \n",
      "Done (encrypted1)\n",
      "Encrypting plain2: \n",
      "Done (encrypted2)\n"
     ]
    }
   ],
   "source": [
    "encrypted1 = Ciphertext()\n",
    "encrypted2 = Ciphertext()\n",
    "print(\"Encrypting plain1: \")\n",
    "encryptor.encrypt(plain1, encrypted1)\n",
    "print(\"Done (encrypted1)\")\n",
    "print(\"Encrypting plain2: \")\n",
    "encryptor.encrypt(plain2, encrypted2)\n",
    "print(\"Done (encrypted2)\")"
   ]
  },
  {
   "cell_type": "code",
   "execution_count": 36,
   "metadata": {},
   "outputs": [],
   "source": [
    "def encoded_dist(evaluator, x1, x2):\n",
    "    evaluator.negate(x2)\n",
    "    evaluator.add(x1, x2)\n",
    "    evaluator.multiply(x1, x1)\n",
    "    return x1"
   ]
  },
  {
   "cell_type": "code",
   "execution_count": 34,
   "metadata": {},
   "outputs": [],
   "source": [
    "x1=5\n",
    "x2=7\n",
    "enc1= encoder.encode(x1)\n",
    "enc2= encoder.encode(x2)\n",
    "\n",
    "encrypted1 = Ciphertext()\n",
    "encrypted2 = Ciphertext()\n",
    "encryptor.encrypt(enc1, encrypted1)\n",
    "encryptor.encrypt(enc2, encrypted2)"
   ]
  },
  {
   "cell_type": "code",
   "execution_count": 37,
   "metadata": {},
   "outputs": [
    {
     "data": {
      "text/plain": [
       "<seal.Ciphertext at 0x7f07540bd378>"
      ]
     },
     "execution_count": 37,
     "metadata": {},
     "output_type": "execute_result"
    }
   ],
   "source": [
    "encoded_dist(evaluator, encrypted1, encrypted2)"
   ]
  },
  {
   "cell_type": "code",
   "execution_count": 38,
   "metadata": {},
   "outputs": [],
   "source": [
    "def decode(evaluator, decryptor, encoder, enc_res):\n",
    "    plain_result = Plaintext()\n",
    "    decryptor.decrypt(enc_res, plain_result)\n",
    "    return encoder.decode_int32(plain_result)"
   ]
  },
  {
   "cell_type": "code",
   "execution_count": 40,
   "metadata": {},
   "outputs": [
    {
     "data": {
      "text/plain": [
       "4"
      ]
     },
     "execution_count": 40,
     "metadata": {},
     "output_type": "execute_result"
    }
   ],
   "source": [
    "decode(evaluator, decryptor, encoder, encrypted1)"
   ]
  },
  {
   "cell_type": "code",
   "execution_count": null,
   "metadata": {},
   "outputs": [],
   "source": []
  }
 ],
 "metadata": {
  "kernelspec": {
   "display_name": "Python 3",
   "language": "python",
   "name": "python3"
  },
  "language_info": {
   "codemirror_mode": {
    "name": "ipython",
    "version": 3
   },
   "file_extension": ".py",
   "mimetype": "text/x-python",
   "name": "python",
   "nbconvert_exporter": "python",
   "pygments_lexer": "ipython3",
   "version": "3.6.8"
  }
 },
 "nbformat": 4,
 "nbformat_minor": 2
}
