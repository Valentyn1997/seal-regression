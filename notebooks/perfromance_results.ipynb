{
 "cells": [
  {
   "cell_type": "code",
   "execution_count": 1,
   "metadata": {},
   "outputs": [],
   "source": [
    "import os,sys,inspect\n",
    "currentdir = os.path.dirname(os.path.abspath(inspect.getfile(inspect.currentframe())))\n",
    "parentdir = os.path.dirname(currentdir)\n",
    "sys.path.insert(0,parentdir) \n",
    "\n",
    "from src.fractions_utils import FracContext, FractionalEncoderUtils, FractionalDecryptorUtils\n",
    "from src.encarray import EncArray\n",
    "from src.linear_regression import SecureLinearRegression\n",
    "from src.main import generate_dataset\n",
    "\n",
    "from time import time\n",
    "from matplotlib import pyplot\n",
    "from sklearn.datasets import make_regression\n",
    "import numpy as np\n",
    "\n",
    "%load_ext autoreload\n",
    "%autoreload 2"
   ]
  },
  {
   "cell_type": "code",
   "execution_count": 2,
   "metadata": {},
   "outputs": [
    {
     "data": {
      "image/png": "[encoded data removed]",
      "text/plain": [
       "<Figure size 432x288 with 1 Axes>"
      ]
     },
     "metadata": {
      "needs_background": "light"
     },
     "output_type": "display_data"
    }
   ],
   "source": [
    "X, y = generate_dataset(10, 1, 10)\n",
    "X_without_intercept = X[:,0]\n",
    "X = X.tolist()\n",
    "y = y.tolist()\n",
    "pyplot.scatter(X_without_intercept, y)\n",
    "pyplot.show()"
   ]
  },
  {
   "cell_type": "code",
   "execution_count": 90,
   "metadata": {},
   "outputs": [
    {
     "data": {
      "text/plain": [
       "[-1.407, 0.537, 0.808, 1.081, 0.537, -1.257, -0.281, -0.734, 1.616, -0.901]"
      ]
     },
     "execution_count": 90,
     "metadata": {},
     "output_type": "execute_result"
    }
   ],
   "source": [
    "X"
   ]
  },
  {
   "cell_type": "code",
   "execution_count": 3,
   "metadata": {},
   "outputs": [
    {
     "name": "stdout",
     "output_type": "stream",
     "text": [
      "/ Encryption parameters:\n",
      "| poly_modulus: 1x^1024 + 1\n",
      "| coeff_modulus_size: 1200 bits\n",
      "| plain_modulus: 4294967296\n",
      "| noise_standard_deviation: 3.19\n"
     ]
    }
   ],
   "source": [
    "context = FracContext()\n",
    "encode_utils = FractionalEncoderUtils(context)\n",
    "decode_utils = FractionalDecryptorUtils(context)"
   ]
  },
  {
   "cell_type": "markdown",
   "metadata": {},
   "source": [
    "## Timings of basic HE operations"
   ]
  },
  {
   "cell_type": "code",
   "execution_count": 131,
   "metadata": {},
   "outputs": [],
   "source": [
    "# testing numbers\n",
    "a = 13\n",
    "b = 42"
   ]
  },
  {
   "cell_type": "code",
   "execution_count": 145,
   "metadata": {},
   "outputs": [],
   "source": [
    "enc_a = encode_utils.encrypt_num(a)\n",
    "enc_b = encode_utils.encrypt_num(b)"
   ]
  },
  {
   "cell_type": "code",
   "execution_count": null,
   "metadata": {},
   "outputs": [],
   "source": [
    "## time for encoding"
   ]
  },
  {
   "cell_type": "code",
   "execution_count": 151,
   "metadata": {},
   "outputs": [
    {
     "name": "stdout",
     "output_type": "stream",
     "text": [
      "38.2 ms ± 1.73 ms per loop (mean ± std. dev. of 7 runs, 10 loops each)\n"
     ]
    }
   ],
   "source": [
    "%%timeit\n",
    "enc_a = encode_utils.encrypt_num(a)\n",
    "enc_b = encode_utils.encrypt_num(b)\n"
   ]
  },
  {
   "cell_type": "code",
   "execution_count": 147,
   "metadata": {},
   "outputs": [
    {
     "name": "stdout",
     "output_type": "stream",
     "text": [
      "54.6 ms ± 953 µs per loop (mean ± std. dev. of 7 runs, 10 loops each)\n"
     ]
    }
   ],
   "source": [
    "%%timeit\n",
    "encode_utils.add(enc_a, enc_b)"
   ]
  },
  {
   "cell_type": "code",
   "execution_count": 148,
   "metadata": {},
   "outputs": [
    {
     "name": "stdout",
     "output_type": "stream",
     "text": [
      "78.3 ms ± 3.33 ms per loop (mean ± std. dev. of 7 runs, 10 loops each)\n"
     ]
    }
   ],
   "source": [
    "%%timeit\n",
    "encode_utils.subtract(enc_a, enc_b)"
   ]
  },
  {
   "cell_type": "code",
   "execution_count": 150,
   "metadata": {},
   "outputs": [
    {
     "name": "stdout",
     "output_type": "stream",
     "text": [
      "442 ms ± 7.84 ms per loop (mean ± std. dev. of 7 runs, 1 loop each)\n"
     ]
    }
   ],
   "source": [
    "%%timeit\n",
    "encode_utils.multiply(enc_a, enc_b)"
   ]
  },
  {
   "cell_type": "code",
   "execution_count": 152,
   "metadata": {},
   "outputs": [
    {
     "name": "stdout",
     "output_type": "stream",
     "text": [
      "42.3 ms ± 3.16 ms per loop (mean ± std. dev. of 7 runs, 10 loops each)\n"
     ]
    }
   ],
   "source": [
    "%%timeit\n",
    "enc_a = EncArray(a, encode_utils)\n",
    "enc_b = EncArray(b, encode_utils)"
   ]
  },
  {
   "cell_type": "code",
   "execution_count": 119,
   "metadata": {},
   "outputs": [
    {
     "name": "stdout",
     "output_type": "stream",
     "text": [
      "80.2 ms ± 2.18 ms per loop (mean ± std. dev. of 7 runs, 10 loops each)\n"
     ]
    }
   ],
   "source": [
    "%%timeit\n",
    "enc_a + enc_b"
   ]
  },
  {
   "cell_type": "code",
   "execution_count": 120,
   "metadata": {},
   "outputs": [
    {
     "name": "stdout",
     "output_type": "stream",
     "text": [
      "87.9 ms ± 691 µs per loop (mean ± std. dev. of 7 runs, 10 loops each)\n"
     ]
    }
   ],
   "source": [
    "%%timeit\n",
    "enc_a - enc_b"
   ]
  },
  {
   "cell_type": "code",
   "execution_count": 121,
   "metadata": {},
   "outputs": [
    {
     "name": "stdout",
     "output_type": "stream",
     "text": [
      "242 ms ± 4.16 ms per loop (mean ± std. dev. of 7 runs, 1 loop each)\n"
     ]
    }
   ],
   "source": [
    "%%timeit\n",
    "enc_a * enc_b"
   ]
  },
  {
   "cell_type": "markdown",
   "metadata": {},
   "source": [
    "## Timings of Linear Regression model "
   ]
  },
  {
   "cell_type": "code",
   "execution_count": 5,
   "metadata": {},
   "outputs": [],
   "source": [
    "X_enc = EncArray(X, encode_utils)\n",
    "y_enc = EncArray(y, encode_utils)"
   ]
  },
  {
   "cell_type": "code",
   "execution_count": 122,
   "metadata": {},
   "outputs": [
    {
     "name": "stdout",
     "output_type": "stream",
     "text": [
      "170 µs ± 10.3 µs per loop (mean ± std. dev. of 7 runs, 10000 loops each)\n"
     ]
    }
   ],
   "source": [
    "%%timeit\n",
    "model = SecureLinearRegression()\n",
    "model.fit_unencrypted(X, y, n_iter=1)"
   ]
  },
  {
   "cell_type": "code",
   "execution_count": 123,
   "metadata": {},
   "outputs": [
    {
     "name": "stdout",
     "output_type": "stream",
     "text": [
      "Iteration: 0\n",
      "Iteration: 0\n",
      "Iteration: 0\n",
      "Iteration: 0\n",
      "Iteration: 0\n",
      "Iteration: 0\n",
      "Iteration: 0\n",
      "Iteration: 0\n",
      "23.5 s ± 505 ms per loop (mean ± std. dev. of 7 runs, 1 loop each)\n"
     ]
    }
   ],
   "source": [
    "%%timeit\n",
    "model = SecureLinearRegression()\n",
    "model.fit(X_enc, y_enc, n_iter=1, decode_utils=decode_utils, verbose=False)"
   ]
  },
  {
   "cell_type": "markdown",
   "metadata": {
    "collapsed": true
   },
   "source": [
    "## Timings of different initialization parameters"
   ]
  },
  {
   "cell_type": "code",
   "execution_count": 8,
   "metadata": {},
   "outputs": [
    {
     "name": "stdout",
     "output_type": "stream",
     "text": [
      "X shape: (10, 2), y shape: (10, 1)\n"
     ]
    }
   ],
   "source": [
    "X, y = generate_dataset(10, 1, 15)\n",
    "X_enc, y_enc = EncArray(X.tolist(), enc_utils=encode_utils), EncArray(y.tolist(), enc_utils=encode_utils)\n",
    "print(f'X shape: {X.shape}, y shape: {y.shape}')"
   ]
  },
  {
   "cell_type": "code",
   "execution_count": 19,
   "metadata": {},
   "outputs": [
    {
     "name": "stdout",
     "output_type": "stream",
     "text": [
      "/ Encryption parameters:\n",
      "| poly_modulus: 1x^1024 + 1\n",
      "| coeff_modulus_size: 1200 bits\n",
      "| plain_modulus: 4294967296\n",
      "| noise_standard_deviation: 3.19\n",
      "================= Secure LR ==================\n",
      "Iteration: 0. Gradient: [2.8185484705176996e+18, -2.1904753235157558e+18]. Noise budget: [0, 0]. Size of weights: 4\n",
      "Estimated parameters: [-2.840309242290651e+18, -1.9479552325552476e+18]\n",
      "Prediction: [[7.31121308118771e+18, -3.1229471133062385e+18], [8.908254104717412e+17, -7.710677872769674e+18], [-9.659730661351928e+17, -3.697333629585569e+17], [7.960778589986693e+16, -1.262980942232074e+18], [3.856813895355288e+18, -8.742566829814706e+18], [5.7577563986738496e+17, 2.709260271551061e+17], [4.186984739599433e+18, -3.299146713319843e+17]]. Real values: [[-0.13575432 -0.73107937 -0.36508054  0.20249348  0.60314044  1.91874422\n",
      "  -1.49246391]]\n",
      "/ Encryption parameters:\n",
      "| poly_modulus: 1x^1024 + 1\n",
      "| coeff_modulus_size: 1200 bits\n",
      "| plain_modulus: 4294967296\n",
      "| noise_standard_deviation: 3.19\n",
      "================= Secure LR ==================\n",
      "Iteration: 0. Gradient: [-5.553701072597048e+18, -6.779530160396161e+18]. Noise budget: [0, 0]. Size of weights: 4\n",
      "Estimated parameters: [6.436751395324302e+18, -7.346060408897052e+18]\n",
      "Prediction: [[5.906596707354354e+17, 8.284821974839164e+18], [-7.648491752938701e+18, 1.0800357290511575e+18], [-4.2161600862193157e+18, -6.297980464767167e+17], [1.8055678587661386e+18, 7.470287803022153e+18], [-1.478335477504024e+18, 2.15233911958081e+18], [-5.75115115953334e+18, 5.787789178799985e+18], [7.860745612889367e+18, -2.4683743839123313e+18]]. Real values: [[-0.13575432 -0.73107937 -0.36508054  0.20249348  0.60314044  1.91874422\n",
      "  -1.49246391]]\n",
      "/ Encryption parameters:\n",
      "| poly_modulus: 1x^1024 + 1\n",
      "| coeff_modulus_size: 1200 bits\n",
      "| plain_modulus: 4294967296\n",
      "| noise_standard_deviation: 3.19\n",
      "================= Secure LR ==================\n",
      "Iteration: 0. Gradient: [7.304872513991851e+18, -6.014833960833113e+18]. Noise budget: [0, 0]. Size of weights: 4\n",
      "Estimated parameters: [-8.647497920284229e+17, 7.262585173279043e+18]\n",
      "Prediction: [[6.78292895535331e+18, -5.453934093601522e+18], [-8.796343785785064e+18, -4.360087308848635e+18], [2.775614794766953e+18, -4.0733748430528845e+17], [-6.819108407433245e+17, 3.5215616541678566e+17], [-3.198379169569679e+18, -7.410704923173521e+18], [9.469277880536521e+17, -6.741013236895959e+18], [-1.3863297526226944e+18, -5.344146622518725e+18]]. Real values: [[-0.13575432 -0.73107937 -0.36508054  0.20249348  0.60314044  1.91874422\n",
      "  -1.49246391]]\n",
      "/ Encryption parameters:\n",
      "| poly_modulus: 1x^1024 + 1\n",
      "| coeff_modulus_size: 1200 bits\n",
      "| plain_modulus: 4294967296\n",
      "| noise_standard_deviation: 3.19\n",
      "================= Secure LR ==================\n",
      "Iteration: 0. Gradient: [-5.456802541684072e+18, -1.882510471684042e+18]. Noise budget: [0, 0]. Size of weights: 4\n",
      "Estimated parameters: [-1.4564587061392998e+18, -8.714292540430781e+18]\n",
      "Prediction: [[2.901412938305729e+18, 9.01296318674606e+18], [8.220449348816359e+18, -9.118385248989199e+18], [8.384130143023189e+18, 5.471411704961929e+18], [-5.815607655936244e+17, 2.6873686926934927e+18], [-7.709108512940298e+18, -3.985065642399555e+18], [-5.630613450514897e+18, 7.182320462631608e+18], [8.130732350484278e+18, -5.396975239046317e+18]]. Real values: [[-0.13575432 -0.73107937 -0.36508054  0.20249348  0.60314044  1.91874422\n",
      "  -1.49246391]]\n",
      "/ Encryption parameters:\n",
      "| poly_modulus: 1x^1024 + 1\n",
      "| coeff_modulus_size: 1200 bits\n",
      "| plain_modulus: 4294967296\n",
      "| noise_standard_deviation: 3.19\n",
      "================= Secure LR ==================\n",
      "Iteration: 0. Gradient: [8.869171365491749e+18, -5.804598449062537e+18]. Noise budget: [0, 0]. Size of weights: 4\n",
      "Estimated parameters: [8.133048496024871e+18, -5.22024065208237e+18]\n",
      "Prediction: [[-6.661236345161078e+18, -8.852341752713833e+18], [-5.262287484645016e+18, -8.63646629779455e+18], [3.861257984605592e+18, 4.2178820752053207e+18], [3.704209144234363e+18, -2.9681787412208983e+18], [-6.391158208549685e+18, -4.915121635550369e+18], [-4.864056170485475e+16, -3.160254906848238e+18], [6.618655118378927e+18, 4.867297015924895e+18]]. Real values: [[-0.13575432 -0.73107937 -0.36508054  0.20249348  0.60314044  1.91874422\n",
      "  -1.49246391]]\n",
      "/ Encryption parameters:\n",
      "| poly_modulus: 1x^1024 + 1\n",
      "| coeff_modulus_size: 1200 bits\n",
      "| plain_modulus: 4294967296\n",
      "| noise_standard_deviation: 3.19\n",
      "================= Secure LR ==================\n",
      "Iteration: 0. Gradient: [-5.792717382572387e+18, -8.500989380768276e+18]. Noise budget: [0, 0]. Size of weights: 4\n",
      "Estimated parameters: [6.712148055968616e+18, -5.97485348899295e+18]\n",
      "Prediction: [[-5.875579166986157e+18, 6.799778267105795e+18], [1.868842218017088e+18, 4.018612431355666e+18], [-5.057131183207906e+18, 1.0081318429026847e+18], [6.035889059096161e+17, 4.258860706412694e+18], [1.6007038960085852e+18, -8.715544673756747e+18], [-9.946686830501417e+17, -1.9184753793114972e+18], [8.456286610069907e+18, -8.792573902853276e+18]]. Real values: [[-0.13575432 -0.73107937 -0.36508054  0.20249348  0.60314044  1.91874422\n",
      "  -1.49246391]]\n",
      "/ Encryption parameters:\n",
      "| poly_modulus: 1x^1024 + 1\n",
      "| coeff_modulus_size: 1200 bits\n",
      "| plain_modulus: 4294967296\n",
      "| noise_standard_deviation: 3.19\n",
      "================= Secure LR ==================\n",
      "Iteration: 0. Gradient: [2.59517378577872e+18, 1.0984276444562931e+18]. Noise budget: [0, 0]. Size of weights: 4\n",
      "Estimated parameters: [4.1798525795601587e+18, 1.4682601793471585e+18]\n",
      "Prediction: [[-7.966055026025983e+18, 5.190422592485498e+18], [-1.2073709783248368e+17, 8.82785840583282e+18], [-7.876667284563673e+18, -7.674113260916991e+18], [-1.770512247051108e+18, -4.1232787357583606e+18], [5.759094402449483e+18, -4.558312934169122e+18], [-6.955435227094596e+18, -2.4636815201889864e+18], [7.449203808324709e+18, 6.312839484402615e+18]]. Real values: [[-0.13575432 -0.73107937 -0.36508054  0.20249348  0.60314044  1.91874422\n",
      "  -1.49246391]]\n",
      "/ Encryption parameters:\n",
      "| poly_modulus: 1x^1024 + 1\n",
      "| coeff_modulus_size: 1200 bits\n",
      "| plain_modulus: 4294967296\n",
      "| noise_standard_deviation: 3.19\n",
      "================= Secure LR ==================\n",
      "Iteration: 0. Gradient: [-8.025874625268345e+18, -5.552485293811345e+18]. Noise budget: [0, 0]. Size of weights: 4\n",
      "Estimated parameters: [2.570977715405783e+18, 5.666104747949176e+18]\n",
      "Prediction: [[-7.06762112829412e+18, -6.999655438216249e+18], [1.3425554351202225e+18, -4.801807366868912e+18], [-8.661198556939205e+18, 5.619232705857787e+18], [-4.158665345509426e+18, -1.5168416419916733e+18], [6.81003878031197e+18, -5.735591355385886e+18], [6.213592820215188e+17, -5.953412749219104e+18], [3.440062665359242e+18, 7.68902677133519e+18]]. Real values: [[-0.13575432 -0.73107937 -0.36508054  0.20249348  0.60314044  1.91874422\n",
      "  -1.49246391]]\n",
      "12 s ± 428 ms per loop (mean ± std. dev. of 7 runs, 1 loop each)\n"
     ]
    }
   ],
   "source": [
    "%%timeit\n",
    "context = FracContext(poly_modulus=\"1x^1024 + 1\", coef_modulus_n_primes=20, plain_modulus=1 << 32)\n",
    "encode_utils = FractionalEncoderUtils(context)\n",
    "decode_utils = FractionalDecryptorUtils(context)\n",
    "\n",
    "print(f'================= Secure LR ==================')\n",
    "init_weights = None\n",
    "model.fit(X_enc, y_enc, decode_utils, init_weights, n_iter=1, verbose=True)\n",
    "\n",
    "weights = model.weigths.decrypt_array(decode_utils)\n",
    "print(f'Estimated parameters: {weights}')\n",
    "print(f'Prediction: {model.predict(X_enc).decrypt_array(decode_utils)}. Real values: {y.T}')\n",
    "\n",
    "# Reencprypting weights\n",
    "init_weights = EncArray(weights, enc_utils=encode_utils)"
   ]
  },
  {
   "cell_type": "code",
   "execution_count": 23,
   "metadata": {},
   "outputs": [
    {
     "name": "stdout",
     "output_type": "stream",
     "text": [
      "X shape: (10, 2), y shape: (10, 1)\n"
     ]
    }
   ],
   "source": [
    "X, y = generate_dataset(10, 1, 15)\n",
    "X_enc, y_enc = EncArray(X.tolist(), enc_utils=encode_utils), EncArray(y.tolist(), enc_utils=encode_utils)\n",
    "print(f'X shape: {X.shape}, y shape: {y.shape}')"
   ]
  },
  {
   "cell_type": "code",
   "execution_count": 24,
   "metadata": {},
   "outputs": [
    {
     "name": "stdout",
     "output_type": "stream",
     "text": [
      "/ Encryption parameters:\n",
      "| poly_modulus: 1x^2048 + 1\n",
      "| coeff_modulus_size: 1200 bits\n",
      "| plain_modulus: 4294967296\n",
      "| noise_standard_deviation: 3.19\n",
      "================= Secure LR ==================\n"
     ]
    },
    {
     "ename": "ValueError",
     "evalue": "encrypted is not valid for encryption parameters",
     "output_type": "error",
     "traceback": [
      "\u001b[0;31m---------------------------------------------------------------------------\u001b[0m",
      "\u001b[0;31mValueError\u001b[0m                                Traceback (most recent call last)",
      "\u001b[0;32m<ipython-input-24-42562362b9cb>\u001b[0m in \u001b[0;36m<module>\u001b[0;34m\u001b[0m\n\u001b[0;32m----> 1\u001b[0;31m \u001b[0mget_ipython\u001b[0m\u001b[0;34m(\u001b[0m\u001b[0;34m)\u001b[0m\u001b[0;34m.\u001b[0m\u001b[0mrun_cell_magic\u001b[0m\u001b[0;34m(\u001b[0m\u001b[0;34m'timeit'\u001b[0m\u001b[0;34m,\u001b[0m \u001b[0;34m''\u001b[0m\u001b[0;34m,\u001b[0m \u001b[0;34m'context = FracContext(poly_modulus=\"1x^2048 + 1\", coef_modulus_n_primes=20, plain_modulus=1 << 32)\\nencode_utils = FractionalEncoderUtils(context)\\ndecode_utils = FractionalDecryptorUtils(context)\\n\\nprint(f\\'================= Secure LR ==================\\')\\ninit_weights = None\\nmodel.fit(X_enc, y_enc, decode_utils, init_weights, n_iter=1, verbose=True)\\n\\nweights = model.weigths.decrypt_array(decode_utils)\\nprint(f\\'Estimated parameters: {weights}\\')\\nprint(f\\'Prediction: {model.predict(X_enc).decrypt_array(decode_utils)}. Real values: {y.T}\\')\\n\\n# Reencprypting weights\\ninit_weights = EncArray(weights, enc_utils=encode_utils)\\n'\u001b[0m\u001b[0;34m)\u001b[0m\u001b[0;34m\u001b[0m\u001b[0;34m\u001b[0m\u001b[0m\n\u001b[0m",
      "\u001b[0;32m~/.local/lib/python3.6/site-packages/IPython/core/interactiveshell.py\u001b[0m in \u001b[0;36mrun_cell_magic\u001b[0;34m(self, magic_name, line, cell)\u001b[0m\n\u001b[1;32m   2356\u001b[0m             \u001b[0;32mwith\u001b[0m \u001b[0mself\u001b[0m\u001b[0;34m.\u001b[0m\u001b[0mbuiltin_trap\u001b[0m\u001b[0;34m:\u001b[0m\u001b[0;34m\u001b[0m\u001b[0;34m\u001b[0m\u001b[0m\n\u001b[1;32m   2357\u001b[0m                 \u001b[0margs\u001b[0m \u001b[0;34m=\u001b[0m \u001b[0;34m(\u001b[0m\u001b[0mmagic_arg_s\u001b[0m\u001b[0;34m,\u001b[0m \u001b[0mcell\u001b[0m\u001b[0;34m)\u001b[0m\u001b[0;34m\u001b[0m\u001b[0;34m\u001b[0m\u001b[0m\n\u001b[0;32m-> 2358\u001b[0;31m                 \u001b[0mresult\u001b[0m \u001b[0;34m=\u001b[0m \u001b[0mfn\u001b[0m\u001b[0;34m(\u001b[0m\u001b[0;34m*\u001b[0m\u001b[0margs\u001b[0m\u001b[0;34m,\u001b[0m \u001b[0;34m**\u001b[0m\u001b[0mkwargs\u001b[0m\u001b[0;34m)\u001b[0m\u001b[0;34m\u001b[0m\u001b[0;34m\u001b[0m\u001b[0m\n\u001b[0m\u001b[1;32m   2359\u001b[0m             \u001b[0;32mreturn\u001b[0m \u001b[0mresult\u001b[0m\u001b[0;34m\u001b[0m\u001b[0;34m\u001b[0m\u001b[0m\n\u001b[1;32m   2360\u001b[0m \u001b[0;34m\u001b[0m\u001b[0m\n",
      "\u001b[0;32m</home/di/.local/lib/python3.6/site-packages/decorator.py:decorator-gen-60>\u001b[0m in \u001b[0;36mtimeit\u001b[0;34m(self, line, cell, local_ns)\u001b[0m\n",
      "\u001b[0;32m~/.local/lib/python3.6/site-packages/IPython/core/magic.py\u001b[0m in \u001b[0;36m<lambda>\u001b[0;34m(f, *a, **k)\u001b[0m\n\u001b[1;32m    185\u001b[0m     \u001b[0;31m# but it's overkill for just that one bit of state.\u001b[0m\u001b[0;34m\u001b[0m\u001b[0;34m\u001b[0m\u001b[0;34m\u001b[0m\u001b[0m\n\u001b[1;32m    186\u001b[0m     \u001b[0;32mdef\u001b[0m \u001b[0mmagic_deco\u001b[0m\u001b[0;34m(\u001b[0m\u001b[0marg\u001b[0m\u001b[0;34m)\u001b[0m\u001b[0;34m:\u001b[0m\u001b[0;34m\u001b[0m\u001b[0;34m\u001b[0m\u001b[0m\n\u001b[0;32m--> 187\u001b[0;31m         \u001b[0mcall\u001b[0m \u001b[0;34m=\u001b[0m \u001b[0;32mlambda\u001b[0m \u001b[0mf\u001b[0m\u001b[0;34m,\u001b[0m \u001b[0;34m*\u001b[0m\u001b[0ma\u001b[0m\u001b[0;34m,\u001b[0m \u001b[0;34m**\u001b[0m\u001b[0mk\u001b[0m\u001b[0;34m:\u001b[0m \u001b[0mf\u001b[0m\u001b[0;34m(\u001b[0m\u001b[0;34m*\u001b[0m\u001b[0ma\u001b[0m\u001b[0;34m,\u001b[0m \u001b[0;34m**\u001b[0m\u001b[0mk\u001b[0m\u001b[0;34m)\u001b[0m\u001b[0;34m\u001b[0m\u001b[0;34m\u001b[0m\u001b[0m\n\u001b[0m\u001b[1;32m    188\u001b[0m \u001b[0;34m\u001b[0m\u001b[0m\n\u001b[1;32m    189\u001b[0m         \u001b[0;32mif\u001b[0m \u001b[0mcallable\u001b[0m\u001b[0;34m(\u001b[0m\u001b[0marg\u001b[0m\u001b[0;34m)\u001b[0m\u001b[0;34m:\u001b[0m\u001b[0;34m\u001b[0m\u001b[0;34m\u001b[0m\u001b[0m\n",
      "\u001b[0;32m~/.local/lib/python3.6/site-packages/IPython/core/magics/execution.py\u001b[0m in \u001b[0;36mtimeit\u001b[0;34m(self, line, cell, local_ns)\u001b[0m\n\u001b[1;32m   1156\u001b[0m             \u001b[0;32mfor\u001b[0m \u001b[0mindex\u001b[0m \u001b[0;32min\u001b[0m \u001b[0mrange\u001b[0m\u001b[0;34m(\u001b[0m\u001b[0;36m0\u001b[0m\u001b[0;34m,\u001b[0m \u001b[0;36m10\u001b[0m\u001b[0;34m)\u001b[0m\u001b[0;34m:\u001b[0m\u001b[0;34m\u001b[0m\u001b[0;34m\u001b[0m\u001b[0m\n\u001b[1;32m   1157\u001b[0m                 \u001b[0mnumber\u001b[0m \u001b[0;34m=\u001b[0m \u001b[0;36m10\u001b[0m \u001b[0;34m**\u001b[0m \u001b[0mindex\u001b[0m\u001b[0;34m\u001b[0m\u001b[0;34m\u001b[0m\u001b[0m\n\u001b[0;32m-> 1158\u001b[0;31m                 \u001b[0mtime_number\u001b[0m \u001b[0;34m=\u001b[0m \u001b[0mtimer\u001b[0m\u001b[0;34m.\u001b[0m\u001b[0mtimeit\u001b[0m\u001b[0;34m(\u001b[0m\u001b[0mnumber\u001b[0m\u001b[0;34m)\u001b[0m\u001b[0;34m\u001b[0m\u001b[0;34m\u001b[0m\u001b[0m\n\u001b[0m\u001b[1;32m   1159\u001b[0m                 \u001b[0;32mif\u001b[0m \u001b[0mtime_number\u001b[0m \u001b[0;34m>=\u001b[0m \u001b[0;36m0.2\u001b[0m\u001b[0;34m:\u001b[0m\u001b[0;34m\u001b[0m\u001b[0;34m\u001b[0m\u001b[0m\n\u001b[1;32m   1160\u001b[0m                     \u001b[0;32mbreak\u001b[0m\u001b[0;34m\u001b[0m\u001b[0;34m\u001b[0m\u001b[0m\n",
      "\u001b[0;32m~/.local/lib/python3.6/site-packages/IPython/core/magics/execution.py\u001b[0m in \u001b[0;36mtimeit\u001b[0;34m(self, number)\u001b[0m\n\u001b[1;32m    167\u001b[0m         \u001b[0mgc\u001b[0m\u001b[0;34m.\u001b[0m\u001b[0mdisable\u001b[0m\u001b[0;34m(\u001b[0m\u001b[0;34m)\u001b[0m\u001b[0;34m\u001b[0m\u001b[0;34m\u001b[0m\u001b[0m\n\u001b[1;32m    168\u001b[0m         \u001b[0;32mtry\u001b[0m\u001b[0;34m:\u001b[0m\u001b[0;34m\u001b[0m\u001b[0;34m\u001b[0m\u001b[0m\n\u001b[0;32m--> 169\u001b[0;31m             \u001b[0mtiming\u001b[0m \u001b[0;34m=\u001b[0m \u001b[0mself\u001b[0m\u001b[0;34m.\u001b[0m\u001b[0minner\u001b[0m\u001b[0;34m(\u001b[0m\u001b[0mit\u001b[0m\u001b[0;34m,\u001b[0m \u001b[0mself\u001b[0m\u001b[0;34m.\u001b[0m\u001b[0mtimer\u001b[0m\u001b[0;34m)\u001b[0m\u001b[0;34m\u001b[0m\u001b[0;34m\u001b[0m\u001b[0m\n\u001b[0m\u001b[1;32m    170\u001b[0m         \u001b[0;32mfinally\u001b[0m\u001b[0;34m:\u001b[0m\u001b[0;34m\u001b[0m\u001b[0;34m\u001b[0m\u001b[0m\n\u001b[1;32m    171\u001b[0m             \u001b[0;32mif\u001b[0m \u001b[0mgcold\u001b[0m\u001b[0;34m:\u001b[0m\u001b[0;34m\u001b[0m\u001b[0;34m\u001b[0m\u001b[0m\n",
      "\u001b[0;32m<magic-timeit>\u001b[0m in \u001b[0;36minner\u001b[0;34m(_it, _timer)\u001b[0m\n",
      "\u001b[0;32m/mnt/c/Users/Di/Desktop/LMU_study/DEDS/seal_regression/src/linear_regression.py\u001b[0m in \u001b[0;36mfit\u001b[0;34m(self, X, y, decode_utils, init_weights, lr, n_iter, verbose)\u001b[0m\n\u001b[1;32m    101\u001b[0m             \u001b[0mgradient\u001b[0m \u001b[0;34m=\u001b[0m \u001b[0mEncArray\u001b[0m\u001b[0;34m(\u001b[0m\u001b[0mgradient\u001b[0m\u001b[0;34m,\u001b[0m \u001b[0menc_utils\u001b[0m\u001b[0;34m=\u001b[0m\u001b[0mX\u001b[0m\u001b[0;34m.\u001b[0m\u001b[0menc_utils\u001b[0m\u001b[0;34m)\u001b[0m\u001b[0;34m\u001b[0m\u001b[0;34m\u001b[0m\u001b[0m\n\u001b[1;32m    102\u001b[0m             \u001b[0;32mif\u001b[0m \u001b[0mverbose\u001b[0m\u001b[0;34m:\u001b[0m\u001b[0;34m\u001b[0m\u001b[0;34m\u001b[0m\u001b[0m\n\u001b[0;32m--> 103\u001b[0;31m                 print(f'Iteration: {it}. Gradient: {gradient.decrypt_array(decode_utils)}. '\n\u001b[0m\u001b[1;32m    104\u001b[0m                       \u001b[0;34mf'Noise budget: {self.weigths.noise_budget(decode_utils)}. '\u001b[0m\u001b[0;34m\u001b[0m\u001b[0;34m\u001b[0m\u001b[0m\n\u001b[1;32m    105\u001b[0m                       f'Size of weights: {self.weigths.mem_size()}')\n",
      "\u001b[0;32m/mnt/c/Users/Di/Desktop/LMU_study/DEDS/seal_regression/src/encarray.py\u001b[0m in \u001b[0;36mdecrypt_array\u001b[0;34m(self, decode_utils)\u001b[0m\n\u001b[1;32m    125\u001b[0m         \u001b[0;34m>>\u001b[0m \u001b[0ma\u001b[0m\u001b[0;34m.\u001b[0m\u001b[0mdecrypt_array\u001b[0m\u001b[0;34m(\u001b[0m\u001b[0mdecode_utils\u001b[0m\u001b[0;34m)\u001b[0m\u001b[0;34m\u001b[0m\u001b[0;34m\u001b[0m\u001b[0m\n\u001b[1;32m    126\u001b[0m         \"\"\"\n\u001b[0;32m--> 127\u001b[0;31m         \u001b[0;32mreturn\u001b[0m \u001b[0mself\u001b[0m\u001b[0;34m.\u001b[0m\u001b[0m_recur_apply\u001b[0m\u001b[0;34m(\u001b[0m\u001b[0mself\u001b[0m\u001b[0;34m.\u001b[0m\u001b[0menc_arr\u001b[0m\u001b[0;34m,\u001b[0m \u001b[0mfun\u001b[0m\u001b[0;34m=\u001b[0m\u001b[0mdecode_utils\u001b[0m\u001b[0;34m.\u001b[0m\u001b[0mdecrypt\u001b[0m\u001b[0;34m)\u001b[0m\u001b[0;34m\u001b[0m\u001b[0;34m\u001b[0m\u001b[0m\n\u001b[0m\u001b[1;32m    128\u001b[0m \u001b[0;34m\u001b[0m\u001b[0m\n\u001b[1;32m    129\u001b[0m     \u001b[0;32mdef\u001b[0m \u001b[0mnoise_budget\u001b[0m\u001b[0;34m(\u001b[0m\u001b[0mself\u001b[0m\u001b[0;34m,\u001b[0m \u001b[0mdecode_utils\u001b[0m\u001b[0;34m:\u001b[0m \u001b[0mFractionalDecryptorUtils\u001b[0m\u001b[0;34m)\u001b[0m\u001b[0;34m:\u001b[0m\u001b[0;34m\u001b[0m\u001b[0;34m\u001b[0m\u001b[0m\n",
      "\u001b[0;32m/mnt/c/Users/Di/Desktop/LMU_study/DEDS/seal_regression/src/encarray.py\u001b[0m in \u001b[0;36m_recur_apply\u001b[0;34m(arr1, arr2, fun, result)\u001b[0m\n\u001b[1;32m     48\u001b[0m                 \u001b[0mEncArray\u001b[0m\u001b[0;34m.\u001b[0m\u001b[0m_recur_apply\u001b[0m\u001b[0;34m(\u001b[0m\u001b[0marr1\u001b[0m\u001b[0;34m[\u001b[0m\u001b[0mi\u001b[0m\u001b[0;34m]\u001b[0m\u001b[0;34m,\u001b[0m \u001b[0marr2\u001b[0m\u001b[0;34m[\u001b[0m\u001b[0mi\u001b[0m\u001b[0;34m]\u001b[0m\u001b[0;34m,\u001b[0m \u001b[0mfun\u001b[0m\u001b[0;34m=\u001b[0m\u001b[0mfun\u001b[0m\u001b[0;34m,\u001b[0m \u001b[0mresult\u001b[0m\u001b[0;34m=\u001b[0m\u001b[0mresult\u001b[0m\u001b[0;34m[\u001b[0m\u001b[0mi\u001b[0m\u001b[0;34m]\u001b[0m\u001b[0;34m)\u001b[0m \u001b[0;32mif\u001b[0m \u001b[0marr2\u001b[0m \u001b[0;32mis\u001b[0m \u001b[0;32mnot\u001b[0m \u001b[0;32mNone\u001b[0m\u001b[0;34m\u001b[0m\u001b[0;34m\u001b[0m\u001b[0m\n\u001b[1;32m     49\u001b[0m                 \u001b[0;32melse\u001b[0m \u001b[0mEncArray\u001b[0m\u001b[0;34m.\u001b[0m\u001b[0m_recur_apply\u001b[0m\u001b[0;34m(\u001b[0m\u001b[0marr1\u001b[0m\u001b[0;34m[\u001b[0m\u001b[0mi\u001b[0m\u001b[0;34m]\u001b[0m\u001b[0;34m,\u001b[0m \u001b[0mfun\u001b[0m\u001b[0;34m=\u001b[0m\u001b[0mfun\u001b[0m\u001b[0;34m,\u001b[0m \u001b[0mresult\u001b[0m\u001b[0;34m=\u001b[0m\u001b[0mresult\u001b[0m\u001b[0;34m[\u001b[0m\u001b[0mi\u001b[0m\u001b[0;34m]\u001b[0m\u001b[0;34m)\u001b[0m\u001b[0;34m\u001b[0m\u001b[0;34m\u001b[0m\u001b[0m\n\u001b[0;32m---> 50\u001b[0;31m                 \u001b[0;32mfor\u001b[0m \u001b[0mi\u001b[0m \u001b[0;32min\u001b[0m \u001b[0mrange\u001b[0m\u001b[0;34m(\u001b[0m\u001b[0mlen\u001b[0m\u001b[0;34m(\u001b[0m\u001b[0marr1\u001b[0m\u001b[0;34m)\u001b[0m\u001b[0;34m)\u001b[0m\u001b[0;34m\u001b[0m\u001b[0;34m\u001b[0m\u001b[0m\n\u001b[0m\u001b[1;32m     51\u001b[0m             ]\n\u001b[1;32m     52\u001b[0m             \u001b[0;32mreturn\u001b[0m \u001b[0mresult\u001b[0m\u001b[0;34m\u001b[0m\u001b[0;34m\u001b[0m\u001b[0m\n",
      "\u001b[0;32m/mnt/c/Users/Di/Desktop/LMU_study/DEDS/seal_regression/src/encarray.py\u001b[0m in \u001b[0;36m<listcomp>\u001b[0;34m(.0)\u001b[0m\n\u001b[1;32m     48\u001b[0m                 \u001b[0mEncArray\u001b[0m\u001b[0;34m.\u001b[0m\u001b[0m_recur_apply\u001b[0m\u001b[0;34m(\u001b[0m\u001b[0marr1\u001b[0m\u001b[0;34m[\u001b[0m\u001b[0mi\u001b[0m\u001b[0;34m]\u001b[0m\u001b[0;34m,\u001b[0m \u001b[0marr2\u001b[0m\u001b[0;34m[\u001b[0m\u001b[0mi\u001b[0m\u001b[0;34m]\u001b[0m\u001b[0;34m,\u001b[0m \u001b[0mfun\u001b[0m\u001b[0;34m=\u001b[0m\u001b[0mfun\u001b[0m\u001b[0;34m,\u001b[0m \u001b[0mresult\u001b[0m\u001b[0;34m=\u001b[0m\u001b[0mresult\u001b[0m\u001b[0;34m[\u001b[0m\u001b[0mi\u001b[0m\u001b[0;34m]\u001b[0m\u001b[0;34m)\u001b[0m \u001b[0;32mif\u001b[0m \u001b[0marr2\u001b[0m \u001b[0;32mis\u001b[0m \u001b[0;32mnot\u001b[0m \u001b[0;32mNone\u001b[0m\u001b[0;34m\u001b[0m\u001b[0;34m\u001b[0m\u001b[0m\n\u001b[1;32m     49\u001b[0m                 \u001b[0;32melse\u001b[0m \u001b[0mEncArray\u001b[0m\u001b[0;34m.\u001b[0m\u001b[0m_recur_apply\u001b[0m\u001b[0;34m(\u001b[0m\u001b[0marr1\u001b[0m\u001b[0;34m[\u001b[0m\u001b[0mi\u001b[0m\u001b[0;34m]\u001b[0m\u001b[0;34m,\u001b[0m \u001b[0mfun\u001b[0m\u001b[0;34m=\u001b[0m\u001b[0mfun\u001b[0m\u001b[0;34m,\u001b[0m \u001b[0mresult\u001b[0m\u001b[0;34m=\u001b[0m\u001b[0mresult\u001b[0m\u001b[0;34m[\u001b[0m\u001b[0mi\u001b[0m\u001b[0;34m]\u001b[0m\u001b[0;34m)\u001b[0m\u001b[0;34m\u001b[0m\u001b[0;34m\u001b[0m\u001b[0m\n\u001b[0;32m---> 50\u001b[0;31m                 \u001b[0;32mfor\u001b[0m \u001b[0mi\u001b[0m \u001b[0;32min\u001b[0m \u001b[0mrange\u001b[0m\u001b[0;34m(\u001b[0m\u001b[0mlen\u001b[0m\u001b[0;34m(\u001b[0m\u001b[0marr1\u001b[0m\u001b[0;34m)\u001b[0m\u001b[0;34m)\u001b[0m\u001b[0;34m\u001b[0m\u001b[0;34m\u001b[0m\u001b[0m\n\u001b[0m\u001b[1;32m     51\u001b[0m             ]\n\u001b[1;32m     52\u001b[0m             \u001b[0;32mreturn\u001b[0m \u001b[0mresult\u001b[0m\u001b[0;34m\u001b[0m\u001b[0;34m\u001b[0m\u001b[0m\n",
      "\u001b[0;32m/mnt/c/Users/Di/Desktop/LMU_study/DEDS/seal_regression/src/encarray.py\u001b[0m in \u001b[0;36m_recur_apply\u001b[0;34m(arr1, arr2, fun, result)\u001b[0m\n\u001b[1;32m     43\u001b[0m \u001b[0;34m\u001b[0m\u001b[0m\n\u001b[1;32m     44\u001b[0m         \u001b[0;32mif\u001b[0m \u001b[0mtype\u001b[0m\u001b[0;34m(\u001b[0m\u001b[0marr1\u001b[0m\u001b[0;34m)\u001b[0m \u001b[0;34m!=\u001b[0m \u001b[0mlist\u001b[0m\u001b[0;34m:\u001b[0m\u001b[0;34m\u001b[0m\u001b[0;34m\u001b[0m\u001b[0m\n\u001b[0;32m---> 45\u001b[0;31m             \u001b[0;32mreturn\u001b[0m \u001b[0mfun\u001b[0m\u001b[0;34m(\u001b[0m\u001b[0marr1\u001b[0m\u001b[0;34m,\u001b[0m \u001b[0marr2\u001b[0m\u001b[0;34m)\u001b[0m \u001b[0;32mif\u001b[0m \u001b[0marr2\u001b[0m \u001b[0;32mis\u001b[0m \u001b[0;32mnot\u001b[0m \u001b[0;32mNone\u001b[0m \u001b[0;32melse\u001b[0m \u001b[0mfun\u001b[0m\u001b[0;34m(\u001b[0m\u001b[0marr1\u001b[0m\u001b[0;34m)\u001b[0m\u001b[0;34m\u001b[0m\u001b[0;34m\u001b[0m\u001b[0m\n\u001b[0m\u001b[1;32m     46\u001b[0m         \u001b[0;32melse\u001b[0m\u001b[0;34m:\u001b[0m\u001b[0;34m\u001b[0m\u001b[0;34m\u001b[0m\u001b[0m\n\u001b[1;32m     47\u001b[0m             result = [\n",
      "\u001b[0;32m/mnt/c/Users/Di/Desktop/LMU_study/DEDS/seal_regression/src/fractions_utils.py\u001b[0m in \u001b[0;36mdecrypt\u001b[0;34m(self, encrypted_res)\u001b[0m\n\u001b[1;32m     76\u001b[0m     \u001b[0;32mdef\u001b[0m \u001b[0mdecrypt\u001b[0m\u001b[0;34m(\u001b[0m\u001b[0mself\u001b[0m\u001b[0;34m,\u001b[0m \u001b[0mencrypted_res\u001b[0m\u001b[0;34m)\u001b[0m\u001b[0;34m:\u001b[0m\u001b[0;34m\u001b[0m\u001b[0;34m\u001b[0m\u001b[0m\n\u001b[1;32m     77\u001b[0m         \u001b[0mplain_result\u001b[0m \u001b[0;34m=\u001b[0m \u001b[0mPlaintext\u001b[0m\u001b[0;34m(\u001b[0m\u001b[0;34m)\u001b[0m\u001b[0;34m\u001b[0m\u001b[0;34m\u001b[0m\u001b[0m\n\u001b[0;32m---> 78\u001b[0;31m         \u001b[0mself\u001b[0m\u001b[0;34m.\u001b[0m\u001b[0mdecryptor\u001b[0m\u001b[0;34m.\u001b[0m\u001b[0mdecrypt\u001b[0m\u001b[0;34m(\u001b[0m\u001b[0mencrypted_res\u001b[0m\u001b[0;34m,\u001b[0m \u001b[0mplain_result\u001b[0m\u001b[0;34m)\u001b[0m\u001b[0;34m\u001b[0m\u001b[0;34m\u001b[0m\u001b[0m\n\u001b[0m\u001b[1;32m     79\u001b[0m         \u001b[0mresult\u001b[0m \u001b[0;34m=\u001b[0m \u001b[0mself\u001b[0m\u001b[0;34m.\u001b[0m\u001b[0mencoder\u001b[0m\u001b[0;34m.\u001b[0m\u001b[0mdecode\u001b[0m\u001b[0;34m(\u001b[0m\u001b[0mplain_result\u001b[0m\u001b[0;34m)\u001b[0m\u001b[0;34m\u001b[0m\u001b[0;34m\u001b[0m\u001b[0m\n\u001b[1;32m     80\u001b[0m         \u001b[0;32mreturn\u001b[0m \u001b[0mresult\u001b[0m\u001b[0;34m\u001b[0m\u001b[0;34m\u001b[0m\u001b[0m\n",
      "\u001b[0;31mValueError\u001b[0m: encrypted is not valid for encryption parameters"
     ]
    }
   ],
   "source": [
    "%%timeit\n",
    "context = FracContext(poly_modulus=\"1x^2048 + 1\", coef_modulus_n_primes=20, plain_modulus=1 << 32)\n",
    "encode_utils = FractionalEncoderUtils(context)\n",
    "decode_utils = FractionalDecryptorUtils(context)\n",
    "\n",
    "print(f'================= Secure LR ==================')\n",
    "init_weights = None\n",
    "model.fit(X_enc, y_enc, decode_utils, init_weights, n_iter=1, verbose=True)\n",
    "\n",
    "weights = model.weigths.decrypt_array(decode_utils)\n",
    "print(f'Estimated parameters: {weights}')\n",
    "print(f'Prediction: {model.predict(X_enc).decrypt_array(decode_utils)}. Real values: {y.T}')\n",
    "\n",
    "# Reencprypting weights\n",
    "init_weights = EncArray(weights, enc_utils=encode_utils)"
   ]
  },
  {
   "cell_type": "code",
   "execution_count": null,
   "metadata": {},
   "outputs": [],
   "source": [
    "context = FracContext(poly_modulus=\"1x^8192 + 1\", coef_modulus_n_primes=20, plain_modulus=1 << 32)\n",
    "encode_utils = FractionalEncoderUtils(context)\n",
    "decode_utils = FractionalDecryptorUtils(context)\n",
    "\n",
    "print(f'================= Secure LR ==================')\n",
    "init_weights = None\n",
    "model.fit(X_enc, y_enc, decode_utils, init_weights, n_iter=1, verbose=True)\n",
    "\n",
    "weights = model.weigths.decrypt_array(decode_utils)\n",
    "print(f'Estimated parameters: {weights}')\n",
    "print(f'Prediction: {model.predict(X_enc).decrypt_array(decode_utils)}. Real values: {y.T}')\n",
    "\n",
    "# Reencprypting weights\n",
    "init_weights = EncArray(weights, enc_utils=encode_utils)"
   ]
  },
  {
   "cell_type": "code",
   "execution_count": null,
   "metadata": {},
   "outputs": [],
   "source": [
    "## Different number of prime numbers"
   ]
  },
  {
   "cell_type": "code",
   "execution_count": null,
   "metadata": {},
   "outputs": [],
   "source": [
    "%%timeit\n",
    "context = FracContext(poly_modulus=\"1x^1024 + 1\", coef_modulus_n_primes=20, plain_modulus=1 << 32)\n",
    "encode_utils = FractionalEncoderUtils(context)\n",
    "decode_utils = FractionalDecryptorUtils(context)\n",
    "\n",
    "print(f'================= Secure LR ==================')\n",
    "init_weights = None\n",
    "model.fit(X_enc, y_enc, decode_utils, init_weights, n_iter=1, verbose=True)\n",
    "\n",
    "weights = model.weigths.decrypt_array(decode_utils)\n",
    "print(f'Estimated parameters: {weights}')\n",
    "print(f'Prediction: {model.predict(X_enc).decrypt_array(decode_utils)}. Real values: {y.T}')\n",
    "\n",
    "# Reencprypting weights\n",
    "init_weights = EncArray(weights, enc_utils=encode_utils)"
   ]
  },
  {
   "cell_type": "code",
   "execution_count": 21,
   "metadata": {},
   "outputs": [
    {
     "name": "stdout",
     "output_type": "stream",
     "text": [
      "/ Encryption parameters:\n",
      "| poly_modulus: 1x^1024 + 1\n",
      "| coeff_modulus_size: 3600 bits\n",
      "| plain_modulus: 4294967296\n",
      "| noise_standard_deviation: 3.19\n",
      "================= Secure LR ==================\n"
     ]
    },
    {
     "ename": "ValueError",
     "evalue": "encrypted is not valid for encryption parameters",
     "output_type": "error",
     "traceback": [
      "\u001b[0;31m---------------------------------------------------------------------------\u001b[0m",
      "\u001b[0;31mValueError\u001b[0m                                Traceback (most recent call last)",
      "\u001b[0;32m<ipython-input-21-ed8ecb14d7b5>\u001b[0m in \u001b[0;36m<module>\u001b[0;34m\u001b[0m\n\u001b[1;32m      5\u001b[0m \u001b[0mprint\u001b[0m\u001b[0;34m(\u001b[0m\u001b[0;34mf'================= Secure LR =================='\u001b[0m\u001b[0;34m)\u001b[0m\u001b[0;34m\u001b[0m\u001b[0;34m\u001b[0m\u001b[0m\n\u001b[1;32m      6\u001b[0m \u001b[0minit_weights\u001b[0m \u001b[0;34m=\u001b[0m \u001b[0;32mNone\u001b[0m\u001b[0;34m\u001b[0m\u001b[0;34m\u001b[0m\u001b[0m\n\u001b[0;32m----> 7\u001b[0;31m \u001b[0mmodel\u001b[0m\u001b[0;34m.\u001b[0m\u001b[0mfit\u001b[0m\u001b[0;34m(\u001b[0m\u001b[0mX_enc\u001b[0m\u001b[0;34m,\u001b[0m \u001b[0my_enc\u001b[0m\u001b[0;34m,\u001b[0m \u001b[0mdecode_utils\u001b[0m\u001b[0;34m,\u001b[0m \u001b[0minit_weights\u001b[0m\u001b[0;34m,\u001b[0m \u001b[0mn_iter\u001b[0m\u001b[0;34m=\u001b[0m\u001b[0;36m1\u001b[0m\u001b[0;34m,\u001b[0m \u001b[0mverbose\u001b[0m\u001b[0;34m=\u001b[0m\u001b[0;32mTrue\u001b[0m\u001b[0;34m)\u001b[0m\u001b[0;34m\u001b[0m\u001b[0;34m\u001b[0m\u001b[0m\n\u001b[0m\u001b[1;32m      8\u001b[0m \u001b[0;34m\u001b[0m\u001b[0m\n\u001b[1;32m      9\u001b[0m \u001b[0mweights\u001b[0m \u001b[0;34m=\u001b[0m \u001b[0mmodel\u001b[0m\u001b[0;34m.\u001b[0m\u001b[0mweigths\u001b[0m\u001b[0;34m.\u001b[0m\u001b[0mdecrypt_array\u001b[0m\u001b[0;34m(\u001b[0m\u001b[0mdecode_utils\u001b[0m\u001b[0;34m)\u001b[0m\u001b[0;34m\u001b[0m\u001b[0;34m\u001b[0m\u001b[0m\n",
      "\u001b[0;32m/mnt/c/Users/Di/Desktop/LMU_study/DEDS/seal_regression/src/linear_regression.py\u001b[0m in \u001b[0;36mfit\u001b[0;34m(self, X, y, decode_utils, init_weights, lr, n_iter, verbose)\u001b[0m\n\u001b[1;32m    101\u001b[0m             \u001b[0mgradient\u001b[0m \u001b[0;34m=\u001b[0m \u001b[0mEncArray\u001b[0m\u001b[0;34m(\u001b[0m\u001b[0mgradient\u001b[0m\u001b[0;34m,\u001b[0m \u001b[0menc_utils\u001b[0m\u001b[0;34m=\u001b[0m\u001b[0mX\u001b[0m\u001b[0;34m.\u001b[0m\u001b[0menc_utils\u001b[0m\u001b[0;34m)\u001b[0m\u001b[0;34m\u001b[0m\u001b[0;34m\u001b[0m\u001b[0m\n\u001b[1;32m    102\u001b[0m             \u001b[0;32mif\u001b[0m \u001b[0mverbose\u001b[0m\u001b[0;34m:\u001b[0m\u001b[0;34m\u001b[0m\u001b[0;34m\u001b[0m\u001b[0m\n\u001b[0;32m--> 103\u001b[0;31m                 print(f'Iteration: {it}. Gradient: {gradient.decrypt_array(decode_utils)}. '\n\u001b[0m\u001b[1;32m    104\u001b[0m                       \u001b[0;34mf'Noise budget: {self.weigths.noise_budget(decode_utils)}. '\u001b[0m\u001b[0;34m\u001b[0m\u001b[0;34m\u001b[0m\u001b[0m\n\u001b[1;32m    105\u001b[0m                       f'Size of weights: {self.weigths.mem_size()}')\n",
      "\u001b[0;32m/mnt/c/Users/Di/Desktop/LMU_study/DEDS/seal_regression/src/encarray.py\u001b[0m in \u001b[0;36mdecrypt_array\u001b[0;34m(self, decode_utils)\u001b[0m\n\u001b[1;32m    125\u001b[0m         \u001b[0;34m>>\u001b[0m \u001b[0ma\u001b[0m\u001b[0;34m.\u001b[0m\u001b[0mdecrypt_array\u001b[0m\u001b[0;34m(\u001b[0m\u001b[0mdecode_utils\u001b[0m\u001b[0;34m)\u001b[0m\u001b[0;34m\u001b[0m\u001b[0;34m\u001b[0m\u001b[0m\n\u001b[1;32m    126\u001b[0m         \"\"\"\n\u001b[0;32m--> 127\u001b[0;31m         \u001b[0;32mreturn\u001b[0m \u001b[0mself\u001b[0m\u001b[0;34m.\u001b[0m\u001b[0m_recur_apply\u001b[0m\u001b[0;34m(\u001b[0m\u001b[0mself\u001b[0m\u001b[0;34m.\u001b[0m\u001b[0menc_arr\u001b[0m\u001b[0;34m,\u001b[0m \u001b[0mfun\u001b[0m\u001b[0;34m=\u001b[0m\u001b[0mdecode_utils\u001b[0m\u001b[0;34m.\u001b[0m\u001b[0mdecrypt\u001b[0m\u001b[0;34m)\u001b[0m\u001b[0;34m\u001b[0m\u001b[0;34m\u001b[0m\u001b[0m\n\u001b[0m\u001b[1;32m    128\u001b[0m \u001b[0;34m\u001b[0m\u001b[0m\n\u001b[1;32m    129\u001b[0m     \u001b[0;32mdef\u001b[0m \u001b[0mnoise_budget\u001b[0m\u001b[0;34m(\u001b[0m\u001b[0mself\u001b[0m\u001b[0;34m,\u001b[0m \u001b[0mdecode_utils\u001b[0m\u001b[0;34m:\u001b[0m \u001b[0mFractionalDecryptorUtils\u001b[0m\u001b[0;34m)\u001b[0m\u001b[0;34m:\u001b[0m\u001b[0;34m\u001b[0m\u001b[0;34m\u001b[0m\u001b[0m\n",
      "\u001b[0;32m/mnt/c/Users/Di/Desktop/LMU_study/DEDS/seal_regression/src/encarray.py\u001b[0m in \u001b[0;36m_recur_apply\u001b[0;34m(arr1, arr2, fun, result)\u001b[0m\n\u001b[1;32m     48\u001b[0m                 \u001b[0mEncArray\u001b[0m\u001b[0;34m.\u001b[0m\u001b[0m_recur_apply\u001b[0m\u001b[0;34m(\u001b[0m\u001b[0marr1\u001b[0m\u001b[0;34m[\u001b[0m\u001b[0mi\u001b[0m\u001b[0;34m]\u001b[0m\u001b[0;34m,\u001b[0m \u001b[0marr2\u001b[0m\u001b[0;34m[\u001b[0m\u001b[0mi\u001b[0m\u001b[0;34m]\u001b[0m\u001b[0;34m,\u001b[0m \u001b[0mfun\u001b[0m\u001b[0;34m=\u001b[0m\u001b[0mfun\u001b[0m\u001b[0;34m,\u001b[0m \u001b[0mresult\u001b[0m\u001b[0;34m=\u001b[0m\u001b[0mresult\u001b[0m\u001b[0;34m[\u001b[0m\u001b[0mi\u001b[0m\u001b[0;34m]\u001b[0m\u001b[0;34m)\u001b[0m \u001b[0;32mif\u001b[0m \u001b[0marr2\u001b[0m \u001b[0;32mis\u001b[0m \u001b[0;32mnot\u001b[0m \u001b[0;32mNone\u001b[0m\u001b[0;34m\u001b[0m\u001b[0;34m\u001b[0m\u001b[0m\n\u001b[1;32m     49\u001b[0m                 \u001b[0;32melse\u001b[0m \u001b[0mEncArray\u001b[0m\u001b[0;34m.\u001b[0m\u001b[0m_recur_apply\u001b[0m\u001b[0;34m(\u001b[0m\u001b[0marr1\u001b[0m\u001b[0;34m[\u001b[0m\u001b[0mi\u001b[0m\u001b[0;34m]\u001b[0m\u001b[0;34m,\u001b[0m \u001b[0mfun\u001b[0m\u001b[0;34m=\u001b[0m\u001b[0mfun\u001b[0m\u001b[0;34m,\u001b[0m \u001b[0mresult\u001b[0m\u001b[0;34m=\u001b[0m\u001b[0mresult\u001b[0m\u001b[0;34m[\u001b[0m\u001b[0mi\u001b[0m\u001b[0;34m]\u001b[0m\u001b[0;34m)\u001b[0m\u001b[0;34m\u001b[0m\u001b[0;34m\u001b[0m\u001b[0m\n\u001b[0;32m---> 50\u001b[0;31m                 \u001b[0;32mfor\u001b[0m \u001b[0mi\u001b[0m \u001b[0;32min\u001b[0m \u001b[0mrange\u001b[0m\u001b[0;34m(\u001b[0m\u001b[0mlen\u001b[0m\u001b[0;34m(\u001b[0m\u001b[0marr1\u001b[0m\u001b[0;34m)\u001b[0m\u001b[0;34m)\u001b[0m\u001b[0;34m\u001b[0m\u001b[0;34m\u001b[0m\u001b[0m\n\u001b[0m\u001b[1;32m     51\u001b[0m             ]\n\u001b[1;32m     52\u001b[0m             \u001b[0;32mreturn\u001b[0m \u001b[0mresult\u001b[0m\u001b[0;34m\u001b[0m\u001b[0;34m\u001b[0m\u001b[0m\n",
      "\u001b[0;32m/mnt/c/Users/Di/Desktop/LMU_study/DEDS/seal_regression/src/encarray.py\u001b[0m in \u001b[0;36m<listcomp>\u001b[0;34m(.0)\u001b[0m\n\u001b[1;32m     48\u001b[0m                 \u001b[0mEncArray\u001b[0m\u001b[0;34m.\u001b[0m\u001b[0m_recur_apply\u001b[0m\u001b[0;34m(\u001b[0m\u001b[0marr1\u001b[0m\u001b[0;34m[\u001b[0m\u001b[0mi\u001b[0m\u001b[0;34m]\u001b[0m\u001b[0;34m,\u001b[0m \u001b[0marr2\u001b[0m\u001b[0;34m[\u001b[0m\u001b[0mi\u001b[0m\u001b[0;34m]\u001b[0m\u001b[0;34m,\u001b[0m \u001b[0mfun\u001b[0m\u001b[0;34m=\u001b[0m\u001b[0mfun\u001b[0m\u001b[0;34m,\u001b[0m \u001b[0mresult\u001b[0m\u001b[0;34m=\u001b[0m\u001b[0mresult\u001b[0m\u001b[0;34m[\u001b[0m\u001b[0mi\u001b[0m\u001b[0;34m]\u001b[0m\u001b[0;34m)\u001b[0m \u001b[0;32mif\u001b[0m \u001b[0marr2\u001b[0m \u001b[0;32mis\u001b[0m \u001b[0;32mnot\u001b[0m \u001b[0;32mNone\u001b[0m\u001b[0;34m\u001b[0m\u001b[0;34m\u001b[0m\u001b[0m\n\u001b[1;32m     49\u001b[0m                 \u001b[0;32melse\u001b[0m \u001b[0mEncArray\u001b[0m\u001b[0;34m.\u001b[0m\u001b[0m_recur_apply\u001b[0m\u001b[0;34m(\u001b[0m\u001b[0marr1\u001b[0m\u001b[0;34m[\u001b[0m\u001b[0mi\u001b[0m\u001b[0;34m]\u001b[0m\u001b[0;34m,\u001b[0m \u001b[0mfun\u001b[0m\u001b[0;34m=\u001b[0m\u001b[0mfun\u001b[0m\u001b[0;34m,\u001b[0m \u001b[0mresult\u001b[0m\u001b[0;34m=\u001b[0m\u001b[0mresult\u001b[0m\u001b[0;34m[\u001b[0m\u001b[0mi\u001b[0m\u001b[0;34m]\u001b[0m\u001b[0;34m)\u001b[0m\u001b[0;34m\u001b[0m\u001b[0;34m\u001b[0m\u001b[0m\n\u001b[0;32m---> 50\u001b[0;31m                 \u001b[0;32mfor\u001b[0m \u001b[0mi\u001b[0m \u001b[0;32min\u001b[0m \u001b[0mrange\u001b[0m\u001b[0;34m(\u001b[0m\u001b[0mlen\u001b[0m\u001b[0;34m(\u001b[0m\u001b[0marr1\u001b[0m\u001b[0;34m)\u001b[0m\u001b[0;34m)\u001b[0m\u001b[0;34m\u001b[0m\u001b[0;34m\u001b[0m\u001b[0m\n\u001b[0m\u001b[1;32m     51\u001b[0m             ]\n\u001b[1;32m     52\u001b[0m             \u001b[0;32mreturn\u001b[0m \u001b[0mresult\u001b[0m\u001b[0;34m\u001b[0m\u001b[0;34m\u001b[0m\u001b[0m\n",
      "\u001b[0;32m/mnt/c/Users/Di/Desktop/LMU_study/DEDS/seal_regression/src/encarray.py\u001b[0m in \u001b[0;36m_recur_apply\u001b[0;34m(arr1, arr2, fun, result)\u001b[0m\n\u001b[1;32m     43\u001b[0m \u001b[0;34m\u001b[0m\u001b[0m\n\u001b[1;32m     44\u001b[0m         \u001b[0;32mif\u001b[0m \u001b[0mtype\u001b[0m\u001b[0;34m(\u001b[0m\u001b[0marr1\u001b[0m\u001b[0;34m)\u001b[0m \u001b[0;34m!=\u001b[0m \u001b[0mlist\u001b[0m\u001b[0;34m:\u001b[0m\u001b[0;34m\u001b[0m\u001b[0;34m\u001b[0m\u001b[0m\n\u001b[0;32m---> 45\u001b[0;31m             \u001b[0;32mreturn\u001b[0m \u001b[0mfun\u001b[0m\u001b[0;34m(\u001b[0m\u001b[0marr1\u001b[0m\u001b[0;34m,\u001b[0m \u001b[0marr2\u001b[0m\u001b[0;34m)\u001b[0m \u001b[0;32mif\u001b[0m \u001b[0marr2\u001b[0m \u001b[0;32mis\u001b[0m \u001b[0;32mnot\u001b[0m \u001b[0;32mNone\u001b[0m \u001b[0;32melse\u001b[0m \u001b[0mfun\u001b[0m\u001b[0;34m(\u001b[0m\u001b[0marr1\u001b[0m\u001b[0;34m)\u001b[0m\u001b[0;34m\u001b[0m\u001b[0;34m\u001b[0m\u001b[0m\n\u001b[0m\u001b[1;32m     46\u001b[0m         \u001b[0;32melse\u001b[0m\u001b[0;34m:\u001b[0m\u001b[0;34m\u001b[0m\u001b[0;34m\u001b[0m\u001b[0m\n\u001b[1;32m     47\u001b[0m             result = [\n",
      "\u001b[0;32m/mnt/c/Users/Di/Desktop/LMU_study/DEDS/seal_regression/src/fractions_utils.py\u001b[0m in \u001b[0;36mdecrypt\u001b[0;34m(self, encrypted_res)\u001b[0m\n\u001b[1;32m     76\u001b[0m     \u001b[0;32mdef\u001b[0m \u001b[0mdecrypt\u001b[0m\u001b[0;34m(\u001b[0m\u001b[0mself\u001b[0m\u001b[0;34m,\u001b[0m \u001b[0mencrypted_res\u001b[0m\u001b[0;34m)\u001b[0m\u001b[0;34m:\u001b[0m\u001b[0;34m\u001b[0m\u001b[0;34m\u001b[0m\u001b[0m\n\u001b[1;32m     77\u001b[0m         \u001b[0mplain_result\u001b[0m \u001b[0;34m=\u001b[0m \u001b[0mPlaintext\u001b[0m\u001b[0;34m(\u001b[0m\u001b[0;34m)\u001b[0m\u001b[0;34m\u001b[0m\u001b[0;34m\u001b[0m\u001b[0m\n\u001b[0;32m---> 78\u001b[0;31m         \u001b[0mself\u001b[0m\u001b[0;34m.\u001b[0m\u001b[0mdecryptor\u001b[0m\u001b[0;34m.\u001b[0m\u001b[0mdecrypt\u001b[0m\u001b[0;34m(\u001b[0m\u001b[0mencrypted_res\u001b[0m\u001b[0;34m,\u001b[0m \u001b[0mplain_result\u001b[0m\u001b[0;34m)\u001b[0m\u001b[0;34m\u001b[0m\u001b[0;34m\u001b[0m\u001b[0m\n\u001b[0m\u001b[1;32m     79\u001b[0m         \u001b[0mresult\u001b[0m \u001b[0;34m=\u001b[0m \u001b[0mself\u001b[0m\u001b[0;34m.\u001b[0m\u001b[0mencoder\u001b[0m\u001b[0;34m.\u001b[0m\u001b[0mdecode\u001b[0m\u001b[0;34m(\u001b[0m\u001b[0mplain_result\u001b[0m\u001b[0;34m)\u001b[0m\u001b[0;34m\u001b[0m\u001b[0;34m\u001b[0m\u001b[0m\n\u001b[1;32m     80\u001b[0m         \u001b[0;32mreturn\u001b[0m \u001b[0mresult\u001b[0m\u001b[0;34m\u001b[0m\u001b[0;34m\u001b[0m\u001b[0m\n",
      "\u001b[0;31mValueError\u001b[0m: encrypted is not valid for encryption parameters"
     ]
    }
   ],
   "source": [
    "%%timeit\n",
    "context = FracContext(poly_modulus=\"1x^1024 + 1\", coef_modulus_n_primes=80, plain_modulus=1 << 32)\n",
    "encode_utils = FractionalEncoderUtils(context)\n",
    "decode_utils = FractionalDecryptorUtils(context)\n",
    "\n",
    "print(f'================= Secure LR ==================')\n",
    "init_weights = None\n",
    "model.fit(X_enc, y_enc, decode_utils, init_weights, n_iter=1, verbose=True)\n",
    "\n",
    "weights = model.weigths.decrypt_array(decode_utils)\n",
    "print(f'Estimated parameters: {weights}')\n",
    "print(f'Prediction: {model.predict(X_enc).decrypt_array(decode_utils)}. Real values: {y.T}')\n",
    "\n",
    "# Reencprypting weights\n",
    "init_weights = EncArray(weights, enc_utils=encode_utils)"
   ]
  },
  {
   "cell_type": "code",
   "execution_count": null,
   "metadata": {},
   "outputs": [],
   "source": [
    "%%timeit\n",
    "context = FracContext(poly_modulus=\"1x^1024 + 1\", coef_modulus_n_primes=140, plain_modulus=1 << 32)\n",
    "encode_utils = FractionalEncoderUtils(context)\n",
    "decode_utils = FractionalDecoderUtils(context)\n",
    "model = SecureLinearRegression()\n",
    "model.fit(X_enc, y_enc, n_iter=1, decode_utils=decode_utils, verbose=True)"
   ]
  },
  {
   "cell_type": "code",
   "execution_count": null,
   "metadata": {},
   "outputs": [],
   "source": [
    "%%timeit\n",
    "context = FracContext(poly_modulus=\"1x^1024 + 1\", coef_modulus_n_primes=20, plain_modulus=1 << 32)\n",
    "encode_utils = FractionalEncoderUtils(context)\n",
    "decode_utils = FractionalDecoderUtils(context)\n",
    "model = SecureLinearRegression()\n",
    "model.fit(X_enc, y_enc, n_iter=1, decode_utils=decode_utils, verbose=True)"
   ]
  }
 ],
 "metadata": {
  "kernelspec": {
   "display_name": "Python 3",
   "language": "python",
   "name": "python3"
  },
  "language_info": {
   "codemirror_mode": {
    "name": "ipython",
    "version": 3
   },
   "file_extension": ".py",
   "mimetype": "text/x-python",
   "name": "python",
   "nbconvert_exporter": "python",
   "pygments_lexer": "ipython3",
   "version": "3.6.8"
  }
 },
 "nbformat": 4,
 "nbformat_minor": 2
}
