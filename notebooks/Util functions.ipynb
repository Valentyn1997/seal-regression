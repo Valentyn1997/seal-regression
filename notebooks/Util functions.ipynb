{
 "cells": [
  {
   "cell_type": "code",
   "execution_count": 74,
   "metadata": {},
   "outputs": [],
   "source": [
    "import time\n",
    "import random\n",
    "import pickle\n",
    "import threading\n",
    "import seal\n",
    "from seal import ChooserEvaluator, \\\n",
    "    Ciphertext, \\\n",
    "    Decryptor, \\\n",
    "    Encryptor, \\\n",
    "    EncryptionParameters, \\\n",
    "    Evaluator, \\\n",
    "    IntegerEncoder, \\\n",
    "    FractionalEncoder, \\\n",
    "    KeyGenerator, \\\n",
    "    MemoryPoolHandle, \\\n",
    "    Plaintext, \\\n",
    "    SEALContext, \\\n",
    "    EvaluationKeys, \\\n",
    "    GaloisKeys, \\\n",
    "    PolyCRTBuilder, \\\n",
    "    ChooserEncoder, \\\n",
    "    ChooserEvaluator, \\\n",
    "    ChooserPoly"
   ]
  },
  {
   "cell_type": "markdown",
   "metadata": {},
   "source": [
    "## Init encryption environment"
   ]
  },
  {
   "cell_type": "code",
   "execution_count": 75,
   "metadata": {},
   "outputs": [
    {
     "name": "stdout",
     "output_type": "stream",
     "text": [
      "/ Encryption parameters:\n",
      "| poly_modulus: 1x^2048 + 1\n",
      "| coeff_modulus_size: 56 bits\n",
      "| plain_modulus: 256\n",
      "| noise_standard_deviation: 3.19\n"
     ]
    }
   ],
   "source": [
    "parms = EncryptionParameters()\n",
    "parms.set_poly_modulus(\"1x^2048 + 1\")\n",
    "parms.set_coeff_modulus(seal.coeff_modulus_128(2048))\n",
    "parms.set_plain_modulus(1 << 8)\n",
    "\n",
    "context = SEALContext(parms)\n",
    "print_parameters(context)\n",
    "\n",
    "keygen = KeyGenerator(context)\n",
    "public_key = keygen.public_key()\n",
    "secret_key = keygen.secret_key()\n",
    "\n",
    "encryptor = Encryptor(context, public_key)\n",
    "evaluator = Evaluator(context)\n",
    "decryptor = Decryptor(context, secret_key)"
   ]
  },
  {
   "cell_type": "code",
   "execution_count": 76,
   "metadata": {},
   "outputs": [],
   "source": [
    "encoder = FractionalEncoder(context.plain_modulus(), context.poly_modulus(), 64, 32, 3)"
   ]
  },
  {
   "cell_type": "markdown",
   "metadata": {},
   "source": [
    "## Some basic util functions "
   ]
  },
  {
   "cell_type": "code",
   "execution_count": 77,
   "metadata": {},
   "outputs": [],
   "source": [
    "def print_parameters(context):\n",
    "    print(\"/ Encryption parameters:\")\n",
    "    print(\"| poly_modulus: \" + context.poly_modulus().to_string())\n",
    "\n",
    "    # Print the size of the true (product) coefficient modulus\n",
    "    print(\"| coeff_modulus_size: \" + (str)(context.total_coeff_modulus().significant_bit_count()) + \" bits\")\n",
    "\n",
    "    print(\"| plain_modulus: \" + (str)(context.plain_modulus().value()))\n",
    "    print(\"| noise_standard_deviation: \" + (str)(context.noise_standard_deviation()))"
   ]
  },
  {
   "cell_type": "code",
   "execution_count": 78,
   "metadata": {},
   "outputs": [],
   "source": [
    "def encode_rationals(numbers, encoder):\n",
    "    # encoding without encryption\n",
    "    encoded_coefficients = []\n",
    "    for i in range(len(coefficients)):\n",
    "        encoded_coefficients.append(encoder.encode(coefficients[i]))\n",
    "    return encoded_coefficients"
   ]
  },
  {
   "cell_type": "code",
   "execution_count": 79,
   "metadata": {},
   "outputs": [],
   "source": [
    "def encode_num(num, encoder):\n",
    "    # encoding without encryption\n",
    "    return encoder.encode(num)"
   ]
  },
  {
   "cell_type": "code",
   "execution_count": 80,
   "metadata": {},
   "outputs": [],
   "source": [
    "def sum_enc_array(array, evaluator):\n",
    "    encrypted_result = Ciphertext()\n",
    "    evaluator.add_many(array, encrypted_result)\n",
    "    return encrypted_result"
   ]
  },
  {
   "cell_type": "code",
   "execution_count": 81,
   "metadata": {},
   "outputs": [],
   "source": [
    "def decode(encrypted_res, decryptor, encoder):\n",
    "    plain_result = Plaintext()\n",
    "    decryptor.decrypt(encrypted_res, plain_result)\n",
    "    result = encoder.decode(plain_result)\n",
    "    return result"
   ]
  },
  {
   "cell_type": "code",
   "execution_count": 82,
   "metadata": {},
   "outputs": [],
   "source": [
    "def encrypt_rationals(rational_numbers, encryptor, encoder):\n",
    "    # encrypt array of rational numbers\n",
    "\n",
    "    encrypted_rationals = []\n",
    "    for i in range(len(rational_numbers)):\n",
    "        encrypted_rationals.append(Ciphertext(parms))\n",
    "        encryptor.encrypt(encoder.encode(rational_numbers[i]), encrypted_rationals[i])\n",
    "    return encrypted_rationals"
   ]
  },
  {
   "cell_type": "code",
   "execution_count": 83,
   "metadata": {},
   "outputs": [],
   "source": [
    "def weighted_average(encrypted_rationals, encoded_coefficients, encoded_divide_by, evaluator):\n",
    "\n",
    "    for i in range(len(encrypted_rationals)):\n",
    "        evaluator.multiply_plain(encrypted_rationals[i], encoded_coefficients[i])\n",
    "    \n",
    "    encrypted_result = Ciphertext()\n",
    "    evaluator.add_many(encrypted_rationals, encrypted_result)\n",
    "    evaluator.multiply_plain(encrypted_result, encoded_divide_by)\n",
    "\n",
    "    # How much noise budget do we have left?\n",
    "    print(\"Noise budget in result: \" + (str)(decryptor.invariant_noise_budget(encrypted_result)) + \" bits\")\n",
    "\n",
    "    return encrypted_result"
   ]
  },
  {
   "cell_type": "code",
   "execution_count": 88,
   "metadata": {},
   "outputs": [
    {
     "name": "stdout",
     "output_type": "stream",
     "text": [
      "Noise budget in result: 30 bits\n"
     ]
    },
    {
     "data": {
      "text/plain": [
       "0.3828864999999884"
      ]
     },
     "execution_count": 88,
     "metadata": {},
     "output_type": "execute_result"
    }
   ],
   "source": [
    "coefficients = [0.1, 0.05, 0.05, 0.2, 0.05, 0.3, 0.1, 0.025, 0.075, 0.05]\n",
    "rational_numbers = [3.1, 4.159, 2.65, 3.5897, 9.3, 2.3, 8.46, 2.64, 3.383, 2.795]\n",
    "\n",
    "encrypted_rationals = encrypt_rationals(rational_numbers, encryptor, encoder)\n",
    "encoded_coefficients = encode_rationals(coefficients, encoder)\n",
    "divide_by = encode_num(1/len(rational_numbers), encoder)\n",
    "\n",
    "avg = weighted_average(encrypted_rationals, encoded_coefficients, divide_by, evaluator)\n",
    "\n",
    "decode(avg, decryptor, encoder)"
   ]
  },
  {
   "cell_type": "code",
   "execution_count": 90,
   "metadata": {},
   "outputs": [],
   "source": [
    "numbers = [3, 4.159, 2.65, 2, -9.3]\n",
    "\n",
    "enc_all_nums = encrypt_rationals(numbers, encryptor, encoder)"
   ]
  },
  {
   "cell_type": "code",
   "execution_count": 93,
   "metadata": {},
   "outputs": [
    {
     "data": {
      "text/plain": [
       "2.5089999999999986"
      ]
     },
     "execution_count": 93,
     "metadata": {},
     "output_type": "execute_result"
    }
   ],
   "source": [
    "enc_sum1 = sum_enc_array(enc_all_nums, evaluator)\n",
    "decode(enc_sum1, decryptor, encoder)"
   ]
  },
  {
   "cell_type": "code",
   "execution_count": 94,
   "metadata": {},
   "outputs": [],
   "source": [
    "def enc_substract(a, b, encoder, evaluator):\n",
    "    # a and b should be encrypted\n",
    "    minus_sign = encoder.encode(-1)\n",
    "    evaluator.multiply_plain(b, minus_sign)\n",
    "    evaluator.add(a, b)\n",
    "    return a"
   ]
  },
  {
   "cell_type": "code",
   "execution_count": 95,
   "metadata": {},
   "outputs": [],
   "source": [
    "def encrypt_num(value, encoder, encryptor):\n",
    "    plain = encoder.encode(value)\n",
    "    encrypted = Ciphertext()\n",
    "    encryptor.encrypt(plain, encrypted)\n",
    "    return encrypted"
   ]
  },
  {
   "cell_type": "code",
   "execution_count": 101,
   "metadata": {},
   "outputs": [
    {
     "data": {
      "text/plain": [
       "2.0"
      ]
     },
     "execution_count": 101,
     "metadata": {},
     "output_type": "execute_result"
    }
   ],
   "source": [
    "a = encrypt_num(5, encoder, encryptor)\n",
    "b = encrypt_num(3, encoder, encryptor)\n",
    "res = enc_substract(a, b, encoder, evaluator)\n",
    "decode(res, decryptor, encoder)"
   ]
  }
 ],
 "metadata": {
  "kernelspec": {
   "display_name": "Python 3",
   "language": "python",
   "name": "python3"
  },
  "language_info": {
   "codemirror_mode": {
    "name": "ipython",
    "version": 3
   },
   "file_extension": ".py",
   "mimetype": "text/x-python",
   "name": "python",
   "nbconvert_exporter": "python",
   "pygments_lexer": "ipython3",
   "version": "3.6.8"
  }
 },
 "nbformat": 4,
 "nbformat_minor": 2
}
